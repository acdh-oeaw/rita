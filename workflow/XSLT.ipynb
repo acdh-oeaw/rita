{
 "cells": [
  {
   "cell_type": "code",
   "execution_count": 59,
   "metadata": {
    "collapsed": false
   },
   "outputs": [],
   "source": [
    "import os, re"
   ]
  },
  {
   "cell_type": "code",
   "execution_count": 60,
   "metadata": {
    "collapsed": false
   },
   "outputs": [],
   "source": [
    "import lxml.etree as ET"
   ]
  },
  {
   "cell_type": "code",
   "execution_count": 61,
   "metadata": {
    "collapsed": false
   },
   "outputs": [],
   "source": [
    " # change the working directory to directory holding the xml files\n",
    "os.chdir(r\"C:\\Users\\pandorfer\\ownCloud\\Documents\\own\\buchbesitz\\data\\fromOxgarage\")\n",
    "path = os.getcwd()"
   ]
  },
  {
   "cell_type": "code",
   "execution_count": 62,
   "metadata": {
    "collapsed": false
   },
   "outputs": [],
   "source": [
    "#load the xsl-file and create a xsl-transform object\n",
    "xslt = ET.parse(\"oxgarageToMyTEI.xsl\")\n",
    "transform = ET.XSLT(xslt)"
   ]
  },
  {
   "cell_type": "code",
   "execution_count": 63,
   "metadata": {
    "collapsed": false
   },
   "outputs": [],
   "source": [
    "#iterate over the directory, transform every XML-File and save the result in another directory\n",
    "for file in os.listdir(path):\n",
    "    if  file.endswith(\".xml\"):\n",
    "        dom = ET.parse(file)\n",
    "        newdom = transform(dom)\n",
    "        newdom.write(str(\"oxgarageToMyTei/\"+file))"
   ]
  },
  {
   "cell_type": "code",
   "execution_count": 64,
   "metadata": {
    "collapsed": false
   },
   "outputs": [],
   "source": [
    "os.chdir(r\"C:\\Users\\pandorfer\\ownCloud\\Documents\\own\\buchbesitz\\data\\fromOxgarage\\oxgarageToMyTei\")\n"
   ]
  },
  {
   "cell_type": "code",
   "execution_count": 65,
   "metadata": {
    "collapsed": false
   },
   "outputs": [],
   "source": [
    "path = os.getcwd()"
   ]
  },
  {
   "cell_type": "code",
   "execution_count": 66,
   "metadata": {
    "collapsed": false
   },
   "outputs": [],
   "source": [
    "for file in os.listdir(os.getcwd()):#iterate over files in the directory\n",
    "    data = open(file, \"r\", encoding=\"utf-8\")# open each file\n",
    "    text = data.read()# read each file and save content as string to \"text\"\n",
    "    data.close()# close every file\n",
    "    replace = str('TEI xmlns=\"http://www.tei-c.org/ns/1.0\"'+ ' xml:id=\"'+file+'\"') # add the file name as xml:id in the root element\n",
    "    text = re.sub(r'TEI xmlns=\"http://www.tei-c.org/ns/1.0\"', replace, text) # add the file name as xml:id in the root element\n",
    "    matches = re.findall(r'<rs type=\"\\w+\" ref=\"#\\w+_\\w+\">', text)\n",
    "    for match in matches:\n",
    "        text = re.sub(match, match.lower(), text)\n",
    "    matches = re.findall(r'<rs type=\"\\w+\" ref=\"#\\w+\">', text)\n",
    "    for match in matches:\n",
    "        text = re.sub(match, match.lower(), text)\n",
    "    text = re.sub(r'(?P<all><p>(?P<match>\\w*\\s*\\w*)</p><table rend=\"rules\">)',\n",
    "           '\\g<all><head type=\"added\">\\g<match></head>', text)#add table headers\n",
    "    output_text = open(file, \"w\")\n",
    "    print(text, file=output_text)\n",
    "    output_text.close()"
   ]
  },
  {
   "cell_type": "code",
   "execution_count": null,
   "metadata": {
    "collapsed": true
   },
   "outputs": [],
   "source": []
  },
  {
   "cell_type": "code",
   "execution_count": null,
   "metadata": {
    "collapsed": true
   },
   "outputs": [],
   "source": []
  }
 ],
 "metadata": {
  "kernelspec": {
   "display_name": "Python 3",
   "language": "python",
   "name": "python3"
  },
  "language_info": {
   "codemirror_mode": {
    "name": "ipython",
    "version": 3
   },
   "file_extension": ".py",
   "mimetype": "text/x-python",
   "name": "python",
   "nbconvert_exporter": "python",
   "pygments_lexer": "ipython3",
   "version": "3.4.3"
  }
 },
 "nbformat": 4,
 "nbformat_minor": 0
}
