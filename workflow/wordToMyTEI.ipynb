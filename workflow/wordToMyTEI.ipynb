{
 "cells": [
  {
   "cell_type": "code",
   "execution_count": 1,
   "metadata": {
    "collapsed": true
   },
   "outputs": [],
   "source": [
    "import os, re, time"
   ]
  },
  {
   "cell_type": "code",
   "execution_count": 2,
   "metadata": {
    "collapsed": true
   },
   "outputs": [],
   "source": [
    "import lxml.etree as ET"
   ]
  },
  {
   "cell_type": "code",
   "execution_count": 3,
   "metadata": {
    "collapsed": false
   },
   "outputs": [],
   "source": [
    "#get a list of the wordfiles which should be sent to http://www.tei-c.org/oxgarage/\n",
    "wordfiles = os.listdir(\"./data/word\")"
   ]
  },
  {
   "cell_type": "code",
   "execution_count": 4,
   "metadata": {
    "collapsed": false
   },
   "outputs": [],
   "source": [
    "# send each wordfile to http://www.tei-c.org/oxgarage/ where it get\n",
    "# transformed to XML/TEI and saved as data/fromOxgarage/{filename}.xml\n",
    "for file in wordfiles:\n",
    "    cmd = (\"curl -o data/fromOxgarage/{0} -F upload=@data/word/{1} http://oxgarage.oucs.ox.ac.uk:8080/ege-webservice/Conversions/docx%3Aapplication%3Avnd.openxmlformats-officedocument.wordprocessingml.document/TEI%3Atext%3Axml/conversion?properties=%3Cconversions%3E%3Cconversion%20index=%220%22%3E%3Cproperty%20id=%22oxgarage.getImages%22%3Etrue%3C/property%3E%3Cproperty%20id=%22oxgarage.getOnlineImages%22%3Etrue%3C/property%3E%3Cproperty%20id=%22oxgarage.lang%22%3Een%3C/property%3E%3Cproperty%20id=%22oxgarage.textOnly%22%3Efalse%3C/property%3E%3Cproperty%20id=%22pl.psnc.dl.ege.tei.profileNames%22%3Edefault%3C/property%3E%3C/conversion%3E%3C/conversions%3E\".format(((os.path.splitext(file)[0])+\".xml\"), file))\n",
    "    os.system(cmd)\n",
    "    time.sleep(1)"
   ]
  },
  {
   "cell_type": "code",
   "execution_count": 5,
   "metadata": {
    "collapsed": false
   },
   "outputs": [],
   "source": [
    "#load the xsl-file and create a xsl-transform object\n",
    "xslt = ET.parse(\"oxgarageToMyTEI.xsl\")\n",
    "transform = ET.XSLT(xslt)"
   ]
  },
  {
   "cell_type": "code",
   "execution_count": 6,
   "metadata": {
    "collapsed": false
   },
   "outputs": [],
   "source": [
    "#iterate over data/fromOxgarage/ -directory, transform every XML-File and save the result in another directory\n",
    "for file in os.listdir(\"./data/fromOxgarage\"):\n",
    "    if  file.endswith(\".xml\"):\n",
    "        dom = ET.parse(\"./data/fromOxgarage/\"+file)\n",
    "        newdom = transform(dom)\n",
    "        newdom.write(str(\"./data/myTEI/\"+file))"
   ]
  },
  {
   "cell_type": "code",
   "execution_count": 7,
   "metadata": {
    "collapsed": false
   },
   "outputs": [],
   "source": [
    "#iterate over each myTEI file and perform some regex-operations\n",
    "for file in os.listdir(\"./data/myTEI\"):#iterate over files in the directory\n",
    "    data = open(\"./data/myTEI/\"+file, \"r\", encoding=\"utf-8\")# open each file\n",
    "    text = data.read()# read the file and save content as string to \"text\"\n",
    "    data.close()# close the file\n",
    "    replace = str('TEI xmlns=\"http://www.tei-c.org/ns/1.0\"'+ ' xml:id=\"'+file+'\"') # add the file name as xml:id in the root element\n",
    "    text = re.sub(r'TEI xmlns=\"http://www.tei-c.org/ns/1.0\"', replace, text) # add the file name as xml:id in the root element\n",
    "    text = re.sub(r\"<p>\\[Bl\\.\\s*(?P<zahl>\\d+)\\s*(?P<rectoverso>[r|v])\\]\\s*</p>\",'<pb n=\"\\g<zahl>\\g<rectoverso>\"/>',text)\n",
    "    matches = re.findall(r'<rs type=\"\\w+\" ref=\"#\\w+_\\w+\">', text)\n",
    "    for match in matches:\n",
    "        text = re.sub(match, match.lower(), text)\n",
    "    matches = re.findall(r'<rs type=\"\\w+\" ref=\"#\\w+\">', text)\n",
    "    for match in matches:\n",
    "        text = re.sub(match, match.lower(), text)\n",
    "    text = re.sub(r'(?P<all><p>(?P<match>\\w*\\s*\\w*)</p><table rend=\"rules\">)',\n",
    "           '\\g<all><head type=\"added\">\\g<match></head>', text)#add table headers\n",
    "    output_text = open(\"./data/myTEI/\"+file, \"w\")\n",
    "    print(text, file=output_text)\n",
    "    output_text.close()"
   ]
  },
  {
   "cell_type": "code",
   "execution_count": null,
   "metadata": {
    "collapsed": true
   },
   "outputs": [],
   "source": []
  }
 ],
 "metadata": {
  "kernelspec": {
   "display_name": "Python 3",
   "language": "python",
   "name": "python3"
  },
  "language_info": {
   "codemirror_mode": {
    "name": "ipython",
    "version": 3
   },
   "file_extension": ".py",
   "mimetype": "text/x-python",
   "name": "python",
   "nbconvert_exporter": "python",
   "pygments_lexer": "ipython3",
   "version": "3.5.1"
  }
 },
 "nbformat": 4,
 "nbformat_minor": 0
}
